{
  "nbformat": 4,
  "nbformat_minor": 0,
  "metadata": {
    "colab": {
      "provenance": []
    },
    "kernelspec": {
      "name": "python3",
      "display_name": "Python 3"
    },
    "language_info": {
      "name": "python"
    }
  },
  "cells": [
    {
      "cell_type": "code",
      "source": [
        "top_side = 10\n",
        "bottom_side = 20\n",
        "hight = 5\n",
        "\n",
        "calc_result = (top_side + bottom_side) * hight / 2\n",
        "print(f\"上辺は{top_side}、\\n下辺は{top_side}、\\n高さは{hight}の台形の面積を計算した場合、\\n\")\n",
        "\n",
        "print(f\"台形の面積は{calc_result}cm²になります。\")"
      ],
      "metadata": {
        "colab": {
          "base_uri": "https://localhost:8080/"
        },
        "id": "5N5XecSF7lIG",
        "outputId": "8b13025d-9967-439f-fbf8-1f2913b05261"
      },
      "execution_count": 27,
      "outputs": [
        {
          "output_type": "stream",
          "name": "stdout",
          "text": [
            "上辺は10、\n",
            "下辺は10、\n",
            "高さは5の台形の面積を計算した場合、\n",
            "\n",
            "台形の面積は75.0cm²になります。\n"
          ]
        }
      ]
    }
  ]
}
